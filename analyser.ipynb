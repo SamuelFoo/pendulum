{
 "cells": [
  {
   "cell_type": "code",
   "execution_count": null,
   "metadata": {},
   "outputs": [],
   "source": [
    "import cv2\n",
    "import matplotlib.pyplot as plt\n",
    "from pathlib import Path\n",
    "\n",
    "from tracker.main import (\n",
    "    getROIFromVideo,\n",
    "    cropWithROI,\n",
    "    getTemplatesFromVideo,\n",
    "    getTemplateMatches,\n",
    "    getOutputVidFrameSize,\n",
    ")\n",
    "\n",
    "import time\n",
    "import numpy as np\n",
    "import imutils\n",
    "from natsort import natsorted\n",
    "import multiprocessing\n",
    "import pandas as pd\n",
    "from scipy.optimize import curve_fit, least_squares\n",
    "from scipy.signal import find_peaks\n",
    "from sklearn.metrics import r2_score\n",
    "\n",
    "%reload_ext autoreload\n",
    "%autoreload 0"
   ]
  },
  {
   "cell_type": "markdown",
   "metadata": {},
   "source": [
    "# Video Processing"
   ]
  },
  {
   "cell_type": "markdown",
   "metadata": {},
   "source": [
    "## Crop Video"
   ]
  },
  {
   "cell_type": "code",
   "execution_count": null,
   "metadata": {},
   "outputs": [],
   "source": [
    "vid_path = Path(\"data/pendulum.mp4\")\n",
    "crop_roi = getROIFromVideo(str(vid_path))\n",
    "cv2.destroyAllWindows()"
   ]
  },
  {
   "cell_type": "markdown",
   "metadata": {},
   "source": [
    "## Difficult to Threshold"
   ]
  },
  {
   "cell_type": "code",
   "execution_count": null,
   "metadata": {},
   "outputs": [],
   "source": [
    "VID_PATH = Path(\"data/pendulum.mp4\")\n",
    "OUTPUT_VID_PATH = VID_PATH.parent / (VID_PATH.stem + \"_thresh_output.mp4\")\n",
    "OUTPUT_HEIGHT = 800\n",
    "# pipeline = lambda frame: frame\n",
    "# pipeline = lambda frame: cv2.warpPerspective(frame, M, (imgWidth, imgHeight))\n",
    "pipeline = lambda frame: cropWithROI(frame, crop_roi)\n",
    "\n",
    "IMSHOW_FLAG = True\n",
    "WRITE_FLAG = True\n",
    "\n",
    "cap = cv2.VideoCapture(str(VID_PATH))\n",
    "fps = cap.get(cv2.CAP_PROP_FPS)\n",
    "\n",
    "frameWidth, frameHeight = getOutputVidFrameSize(str(VID_PATH), pipeline, OUTPUT_HEIGHT)\n",
    "out = cv2.VideoWriter(\n",
    "    str(OUTPUT_VID_PATH),\n",
    "    cv2.VideoWriter_fourcc(*\"mp4v\"),\n",
    "    cap.get(cv2.CAP_PROP_FPS),\n",
    "    (frameWidth, frameHeight),\n",
    ")\n",
    "\n",
    "totalFrames = cap.get(cv2.CAP_PROP_FRAME_COUNT)\n",
    "frameCount = 0\n",
    "startTime = time.time()\n",
    "saveFrames = []\n",
    "saveCnts = []\n",
    "centroids = []\n",
    "\n",
    "ret, frame = cap.read()\n",
    "while ret:\n",
    "    if frameCount % 100 == 0 and frameCount != 0:\n",
    "        elapsedTime = time.time() - startTime\n",
    "        estTimeLeft = (totalFrames - frameCount) / frameCount * elapsedTime\n",
    "        print(f\"Frame {frameCount} out of {round(totalFrames)}.\")\n",
    "        print(\n",
    "            f\"\\tTime taken: {round(elapsedTime)}s. Est. time left: {round(estTimeLeft)}s\"\n",
    "        )\n",
    "\n",
    "    frame = pipeline(frame)\n",
    "    frame_hsv = cv2.cvtColor(frame, cv2.COLOR_BGR2HSV)\n",
    "    (frame_h, frame_s, frame_v) = cv2.split(frame_hsv)\n",
    "\n",
    "    frame = imutils.resize(frame, height=OUTPUT_HEIGHT)\n",
    "\n",
    "    if WRITE_FLAG:\n",
    "        out.write(frame)\n",
    "\n",
    "    if IMSHOW_FLAG:\n",
    "        cv2.imshow(\"Hue\", frame_h)\n",
    "        cv2.imshow(\"Saturation\", frame_s)\n",
    "        cv2.imshow(\"Value\", frame_v)\n",
    "        key = cv2.waitKey(10)\n",
    "\n",
    "        if key == ord(\"q\") or key == ord(\"Q\"):\n",
    "            break\n",
    "\n",
    "        if key == ord(\"p\") or key == ord(\"P\"):\n",
    "            key = cv2.waitKey(0)\n",
    "            if key == ord(\"p\") or key == ord(\"P\"):\n",
    "                continue\n",
    "\n",
    "    ret, frame = cap.read()\n",
    "    frameCount += 1\n",
    "\n",
    "cv2.destroyAllWindows()\n",
    "out.release()\n",
    "cap.release()"
   ]
  },
  {
   "cell_type": "markdown",
   "metadata": {},
   "source": [
    "## Not Circular"
   ]
  },
  {
   "cell_type": "markdown",
   "metadata": {},
   "source": [
    "## Get Template(s)"
   ]
  },
  {
   "cell_type": "code",
   "execution_count": null,
   "metadata": {},
   "outputs": [],
   "source": [
    "# pipeline = lambda frame: cv2.warpPerspective(cropWithROI(frame, crop_roi), M, (imgWidth, imgHeight))\n",
    "pipeline = lambda frame: cropWithROI(frame, crop_roi)\n",
    "# pipeline = lambda frame: frame\n",
    "templates = getTemplatesFromVideo(\n",
    "    str(vid_path), pipeline, templateWidth=70, templateHeight=70\n",
    ")"
   ]
  },
  {
   "cell_type": "markdown",
   "metadata": {},
   "source": [
    "## Save Template(s)"
   ]
  },
  {
   "cell_type": "code",
   "execution_count": null,
   "metadata": {},
   "outputs": [],
   "source": [
    "# templatesDir = Path(\"templates_pendulum\")\n",
    "templatesDir = Path(\"templates_pendulum2\")\n",
    "templatesDir.mkdir(exist_ok=True)\n",
    "\n",
    "imgPaths = natsorted([str(path) for path in templatesDir.glob(\"*.jpg\")])\n",
    "\n",
    "if imgPaths:\n",
    "    latestImgN = int(Path(imgPaths[-1]).stem) + 1\n",
    "else:\n",
    "    latestImgN = 0\n",
    "\n",
    "for i in range(len(templates)):\n",
    "    cv2.imwrite(str(templatesDir / f\"{latestImgN+i}.jpg\"), templates[i])\n",
    "\n",
    "templates.clear()"
   ]
  },
  {
   "cell_type": "markdown",
   "metadata": {},
   "source": [
    "## Load Template(s)"
   ]
  },
  {
   "cell_type": "code",
   "execution_count": null,
   "metadata": {},
   "outputs": [],
   "source": [
    "# templatesDir = Path(\"templates_pendulum/\")\n",
    "templatesDir = Path(\"templates_pendulum2\")\n",
    "\n",
    "imgPaths = templatesDir.glob(\"*.jpg\")\n",
    "\n",
    "templates = []\n",
    "for imgPath in imgPaths:\n",
    "    template = cv2.imread(str(imgPath))\n",
    "    templates.append(template)\n",
    "    cv2.imshow(\"Template\", template)\n",
    "    cv2.waitKey(0)\n",
    "\n",
    "cv2.waitKey(0)\n",
    "cv2.destroyAllWindows()"
   ]
  },
  {
   "cell_type": "markdown",
   "metadata": {},
   "source": [
    "## Match Templates"
   ]
  },
  {
   "cell_type": "code",
   "execution_count": null,
   "metadata": {},
   "outputs": [],
   "source": [
    "VID_PATH = Path(\"data/pendulum.mp4\")\n",
    "# OUTPUT_VID_PATH = VID_PATH.parent / (VID_PATH.stem + \"_output.mp4\")\n",
    "OUTPUT_VID_PATH = VID_PATH.parent / (VID_PATH.stem + \"_output2.mp4\")\n",
    "\n",
    "OUTPUT_HEIGHT = 800\n",
    "\n",
    "# NMS_THRESHOLD = 0.7\n",
    "NMS_THRESHOLD = 0.3\n",
    "CONFIDENCE_THRESHOLD = 0.775\n",
    "\n",
    "IMSHOW_FLAG = True\n",
    "WRITE_FLAG = True\n",
    "\n",
    "num_cpu = multiprocessing.cpu_count() - 1\n",
    "pool = multiprocessing.pool.ThreadPool(processes=num_cpu)\n",
    "\n",
    "cap = cv2.VideoCapture(str(VID_PATH))\n",
    "\n",
    "totalFrames = cap.get(cv2.CAP_PROP_FRAME_COUNT)\n",
    "frameCount = 0\n",
    "startTime = time.time()\n",
    "\n",
    "# pipeline = lambda frame: frame\n",
    "pipeline = lambda frame: cropWithROI(frame, crop_roi)\n",
    "# pipeline = lambda frame: cv2.warpPerspective(cropWithROI(frame, crop_roi), M, (imgWidth, imgHeight))\n",
    "\n",
    "frameWidth, frameHeight = getOutputVidFrameSize(str(VID_PATH), pipeline, OUTPUT_HEIGHT)\n",
    "out = cv2.VideoWriter(\n",
    "    str(OUTPUT_VID_PATH),\n",
    "    cv2.VideoWriter_fourcc(*\"mp4v\"),\n",
    "    cap.get(cv2.CAP_PROP_FPS),\n",
    "    (frameWidth, frameHeight),\n",
    ")\n",
    "print(f\"Output frame width: {frameWidth}, frame height: {frameHeight}\")\n",
    "\n",
    "saveFrames = []\n",
    "saveBoxes = []\n",
    "\n",
    "ret, frame = cap.read()\n",
    "while ret:\n",
    "    if frameCount % 100 == 0 and frameCount != 0:\n",
    "        elapsedTime = time.time() - startTime\n",
    "        estTimeLeft = (totalFrames - frameCount) / frameCount * elapsedTime\n",
    "        print(f\"Frame {frameCount} out of {round(totalFrames)}.\")\n",
    "        print(\n",
    "            f\"\\tTime taken: {round(elapsedTime)}s. Est. time left: {round(estTimeLeft)}s\"\n",
    "        )\n",
    "\n",
    "    img_rgb = pipeline(frame)\n",
    "\n",
    "    # Multithreading\n",
    "    mapIterable = []\n",
    "    for i in range(len(templates)):\n",
    "        template = templates[i]\n",
    "        mapIterable.append((img_rgb, template, CONFIDENCE_THRESHOLD))\n",
    "    results = pool.starmap(func=getTemplateMatches, iterable=mapIterable)\n",
    "\n",
    "    boxes, confidences = [], []\n",
    "    for result in results:\n",
    "        boxes.extend(result[0])\n",
    "        confidences.extend(result[1])\n",
    "\n",
    "    # Sequential\n",
    "    # boxes, confidences = [], []\n",
    "    # for template in templates:\n",
    "    #     val = getTemplateMatches(img_rgb, template, CONFIDENCE_THRESHOLD)\n",
    "    #     boxes.extend(val[0])\n",
    "    #     confidences.extend(val[1])\n",
    "\n",
    "    indices = cv2.dnn.NMSBoxes(boxes, confidences, CONFIDENCE_THRESHOLD, NMS_THRESHOLD)\n",
    "    boxes = [boxes[idx] for idx in indices]\n",
    "    confidences = [confidences[idx] for idx in indices]\n",
    "\n",
    "    if boxes:\n",
    "        saveFrames.append(frameCount)\n",
    "        saveBoxes.append(boxes[0].copy())\n",
    "\n",
    "    for box in boxes:\n",
    "        cv2.rectangle(img_rgb, box[:2], box[2:], (0, 0, 255), 2)\n",
    "\n",
    "    img_rgb = imutils.resize(img_rgb, height=OUTPUT_HEIGHT)\n",
    "\n",
    "    if WRITE_FLAG:\n",
    "        out.write(img_rgb)\n",
    "\n",
    "    if IMSHOW_FLAG:\n",
    "        cv2.imshow(\"Detections\", img_rgb)\n",
    "        key = cv2.waitKey(1)\n",
    "        if key == ord(\"q\") or key == ord(\"Q\"):\n",
    "            break\n",
    "\n",
    "    ret, frame = cap.read()\n",
    "    frameCount += 1\n",
    "\n",
    "cv2.destroyAllWindows()\n",
    "out.release()\n",
    "cap.release()"
   ]
  },
  {
   "cell_type": "markdown",
   "metadata": {},
   "source": [
    "## Export Data"
   ]
  },
  {
   "cell_type": "code",
   "execution_count": null,
   "metadata": {},
   "outputs": [],
   "source": [
    "csv_path = VID_PATH.parent / (VID_PATH.stem + \"_output2.csv\")\n",
    "\n",
    "pix_per_metre = 1\n",
    "coords = (\n",
    "    np.array([[(b[0] + b[2]) / 2, (b[1] + b[3]) / 2] for b in saveBoxes])\n",
    "    / pix_per_metre\n",
    ")\n",
    "\n",
    "df = pd.DataFrame([saveFrames, coords[:, 0], coords[:, 1]]).T\n",
    "df.to_csv(csv_path, index=None, header=[\"frame\", \"x\", \"y\"])"
   ]
  },
  {
   "cell_type": "markdown",
   "metadata": {},
   "source": [
    "# Curve Fitting"
   ]
  },
  {
   "cell_type": "markdown",
   "metadata": {},
   "source": [
    "## Load Data"
   ]
  },
  {
   "cell_type": "code",
   "execution_count": null,
   "metadata": {},
   "outputs": [],
   "source": [
    "vid_path = Path(\"data/pendulum.mp4\")\n",
    "csv_path = vid_path.parent / (vid_path.stem + \"_output.csv\")\n",
    "\n",
    "df = pd.read_csv(csv_path)\n",
    "frame = df[\"frame\"]\n",
    "x = df[\"x\"]\n",
    "y = df[\"y\"]"
   ]
  },
  {
   "cell_type": "code",
   "execution_count": null,
   "metadata": {},
   "outputs": [],
   "source": [
    "plt.scatter(frame, x, s=1)\n",
    "plt.show()\n",
    "plt.scatter(frame, y, s=1)\n",
    "plt.show()"
   ]
  },
  {
   "cell_type": "markdown",
   "metadata": {},
   "source": [
    "# Try fitting \n",
    "$A \\sin(2\\pi f t + \\alpha)$"
   ]
  },
  {
   "cell_type": "code",
   "execution_count": null,
   "metadata": {},
   "outputs": [],
   "source": [
    "x, y = y, x"
   ]
  },
  {
   "cell_type": "code",
   "execution_count": null,
   "metadata": {},
   "outputs": [],
   "source": [
    "FPS = 30\n",
    "t = frame / FPS\n",
    "\n",
    "\n",
    "def func(t, A, f, alpha, offset):\n",
    "    return A * np.sin(2 * np.pi * f * t + alpha) + offset\n",
    "\n",
    "\n",
    "popt, _ = curve_fit(func, t, x)\n",
    "plt.scatter(t, x, s=1)\n",
    "plt.plot(t, func(t, *popt), color=\"r\", label=\"Best Fit\")"
   ]
  },
  {
   "cell_type": "code",
   "execution_count": null,
   "metadata": {},
   "outputs": [],
   "source": [
    "r2_score(x, func(t, *popt))"
   ]
  },
  {
   "cell_type": "markdown",
   "metadata": {},
   "source": [
    "# Oh no bad fit!"
   ]
  },
  {
   "cell_type": "code",
   "execution_count": null,
   "metadata": {},
   "outputs": [],
   "source": [
    "peaks, _ = find_peaks(x)\n",
    "troughs, _ = find_peaks(-x)\n",
    "crit_pts = np.append(peaks, troughs)\n",
    "t_crit, x_crit = t[crit_pts], x[crit_pts]\n",
    "\n",
    "plt.scatter(t_crit, x_crit, color=\"k\", label=\"peaks\")\n",
    "plt.scatter(t, x, s=1)\n",
    "\n",
    "period = np.mean(np.diff(sorted(t_crit))) * 2\n",
    "freq = 1 / period"
   ]
  },
  {
   "cell_type": "code",
   "execution_count": null,
   "metadata": {},
   "outputs": [],
   "source": [
    "def func(t, A, alpha, offset):\n",
    "    return A * np.sin(2 * np.pi * freq * t + alpha) + offset\n",
    "\n",
    "\n",
    "t_lin = np.linspace(min(t), max(t), 1000)\n",
    "\n",
    "popt, pcov = curve_fit(func, t, x)\n",
    "plt.scatter(t, x, s=1)\n",
    "plt.plot(t_lin, func(t_lin, *popt), color=\"r\", linestyle=\"--\", label=\"Best Fit\")"
   ]
  },
  {
   "cell_type": "code",
   "execution_count": null,
   "metadata": {},
   "outputs": [],
   "source": [
    "r2_score(x, func(t, *popt))"
   ]
  },
  {
   "cell_type": "markdown",
   "metadata": {},
   "source": [
    "#### An underdamped pendulum decays in amplitude exponentially​  \n",
    "\n",
    "\\begin{align} \\large \\theta_{max}(t) = \\theta_{0} e^{-\\frac{\\eta t}{2m}}  \\end{align}\n",
    "\n",
    "##### $ \\eta $ : air drag constant ($ kg \\cdot s^{-1} $)"
   ]
  },
  {
   "cell_type": "code",
   "execution_count": null,
   "metadata": {},
   "outputs": [],
   "source": [
    "def func(t, A, alpha, offset, m):\n",
    "    return A * (np.exp(m * t)) * np.sin(2 * np.pi * freq * t + alpha) + offset\n",
    "\n",
    "\n",
    "t_lin = np.linspace(min(t), max(t), 1000)\n",
    "\n",
    "popt, pcov = curve_fit(func, t, x)\n",
    "plt.scatter(t, x, s=1)\n",
    "plt.plot(t_lin, func(t_lin, *popt), color=\"r\", linestyle=\"--\", label=\"Best Fit\")\n",
    "plt.show()"
   ]
  },
  {
   "cell_type": "code",
   "execution_count": null,
   "metadata": {},
   "outputs": [],
   "source": [
    "r2_score(x, func(t, *popt))"
   ]
  },
  {
   "cell_type": "code",
   "execution_count": null,
   "metadata": {},
   "outputs": [],
   "source": [
    "y_corr = np.max(y) - y\n",
    "y_min = np.min(y_corr)\n",
    "x_mean = np.mean(x)\n",
    "x_disp = x - x_mean\n",
    "y_disp = y_corr - y_min\n",
    "\n",
    "plt.scatter(x_disp, y_disp)\n",
    "plt.gca().set_aspect(\"equal\")"
   ]
  },
  {
   "cell_type": "code",
   "execution_count": null,
   "metadata": {},
   "outputs": [],
   "source": [
    "xy = np.array([x_disp, y_disp]).T\n",
    "rotation_matrix = lambda a: np.array([[np.cos(a), -np.sin(a)], [np.sin(a), np.cos(a)]])\n",
    "\n",
    "\n",
    "def rotate(a):\n",
    "    return xy @ rotation_matrix(a).T\n",
    "\n",
    "\n",
    "def error_fn(a):\n",
    "    rotated_xy = rotate(a)\n",
    "    rotated_y = rotated_xy[0, :, 1]\n",
    "    return rotated_y\n",
    "\n",
    "\n",
    "angle_estimate = 0\n",
    "res = least_squares(error_fn, angle_estimate)\n",
    "angle = res.x\n",
    "np.rad2deg(angle)"
   ]
  },
  {
   "cell_type": "code",
   "execution_count": null,
   "metadata": {},
   "outputs": [],
   "source": [
    "rotated_xy = rotate(angle)\n",
    "x_rotated, y_rotated = rotated_xy[0].T\n",
    "plt.scatter(x_rotated, y_rotated)\n",
    "plt.gca().set_aspect(\"equal\")"
   ]
  },
  {
   "cell_type": "code",
   "execution_count": null,
   "metadata": {},
   "outputs": [],
   "source": [
    "def func(t, A, alpha, offset, m):\n",
    "    return A * (np.exp(m * t)) * np.sin(2 * np.pi * freq * t + alpha) + offset\n",
    "\n",
    "\n",
    "t_lin = np.linspace(min(t), max(t), 1000)\n",
    "\n",
    "popt, pcov = curve_fit(func, t, x_rotated)\n",
    "plt.scatter(t, x_rotated, s=1)\n",
    "plt.plot(t_lin, func(t_lin, *popt), color=\"r\", linestyle=\"--\", label=\"Best Fit\")"
   ]
  },
  {
   "cell_type": "code",
   "execution_count": null,
   "metadata": {},
   "outputs": [],
   "source": [
    "r2_score(x_rotated, func(t, *popt))"
   ]
  },
  {
   "cell_type": "code",
   "execution_count": null,
   "metadata": {},
   "outputs": [],
   "source": [
    "np.mean(x_rotated[crit_pts])"
   ]
  },
  {
   "cell_type": "code",
   "execution_count": null,
   "metadata": {},
   "outputs": [],
   "source": [
    "peaks, _ = find_peaks(x_rotated)\n",
    "troughs, _ = find_peaks(-x_rotated)\n",
    "crit_pts = np.append(peaks, troughs)\n",
    "\n",
    "x_mean = np.mean(x_rotated[crit_pts])\n",
    "x_disp = x_rotated - x_mean\n",
    "\n",
    "plt.scatter(t, np.abs(x_disp), s=1)\n",
    "plt.show()\n",
    "plt.scatter(t, np.abs(x_disp), s=1)\n",
    "\n",
    "x_cutoff = np.mean(x_rotated[troughs])\n",
    "plt.axhline(np.abs(x_cutoff - x_mean), linestyle=\"--\", color=\"r\")\n",
    "plt.show()"
   ]
  },
  {
   "cell_type": "code",
   "execution_count": null,
   "metadata": {},
   "outputs": [],
   "source": [
    "vid_path = Path(\"data/pendulum.mp4\")\n",
    "csv_path = vid_path.parent / (vid_path.stem + \"_output2.csv\")\n",
    "\n",
    "df = pd.read_csv(csv_path)\n",
    "frame = df[\"frame\"]\n",
    "x = df[\"y\"]\n",
    "y = df[\"x\"]\n",
    "\n",
    "FPS = 30\n",
    "t = frame / FPS\n",
    "\n",
    "peaks, _ = find_peaks(x)\n",
    "troughs, _ = find_peaks(-x)\n",
    "crit_pts = np.append(peaks, troughs)\n",
    "t_crit, x_crit = t[crit_pts], x[crit_pts]\n",
    "period = np.mean(np.diff(sorted(t_crit))) * 2\n",
    "freq = 1 / period\n",
    "\n",
    "\n",
    "def func(t, A, alpha, offset, m):\n",
    "    return A * (np.exp(m * t)) * np.sin(2 * np.pi * freq * t + alpha) + offset\n",
    "\n",
    "\n",
    "t_lin = np.linspace(min(t), max(t), 1000)\n",
    "\n",
    "popt, pcov = curve_fit(func, t, x)\n",
    "plt.scatter(t, x, s=1)\n",
    "plt.plot(t_lin, func(t_lin, *popt), color=\"r\", linestyle=\"--\", label=\"Best Fit\")"
   ]
  },
  {
   "cell_type": "code",
   "execution_count": null,
   "metadata": {},
   "outputs": [],
   "source": [
    "r2_score(x, func(t, *popt))"
   ]
  }
 ],
 "metadata": {
  "kernelspec": {
   "display_name": "tracker",
   "language": "python",
   "name": "python3"
  },
  "language_info": {
   "codemirror_mode": {
    "name": "ipython",
    "version": 3
   },
   "file_extension": ".py",
   "mimetype": "text/x-python",
   "name": "python",
   "nbconvert_exporter": "python",
   "pygments_lexer": "ipython3",
   "version": "3.12.2"
  }
 },
 "nbformat": 4,
 "nbformat_minor": 2
}

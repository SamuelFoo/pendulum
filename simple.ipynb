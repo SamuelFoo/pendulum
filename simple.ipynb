{
  "cells": [
    {
      "cell_type": "markdown",
      "metadata": {},
      "source": [
        "# Data Extraction"
      ]
    },
    {
      "cell_type": "markdown",
      "metadata": {},
      "source": [
        "Using openCV, we extracted the (x,y) positions of the pendulum in the video and exported the (x,y) position of every frame into a csv file. Details of this step can be found in the Appendix section."
      ]
    },
    {
      "cell_type": "markdown",
      "metadata": {
        "id": "Iak3pck_DEvG"
      },
      "source": [
        "# Curve Fitting\n"
      ]
    },
    {
      "cell_type": "markdown",
      "metadata": {
        "id": "8U5KusiJDQQz"
      },
      "source": [
        "## Load data"
      ]
    },
    {
      "cell_type": "code",
      "execution_count": null,
      "metadata": {
        "colab": {
          "base_uri": "https://localhost:8080/"
        },
        "id": "DNxg41CPDewg",
        "outputId": "17adf707-d858-4ee3-b1d6-a3d0e3bdd233"
      },
      "outputs": [],
      "source": [
        "import pandas as pd\n",
        "\n",
        "df = pd.read_csv(\"data/pendulum_output2.csv\")\n",
        "\n",
        "frame = df[\"frame\"]\n",
        "\n",
        "# Swap the x and y values because the video is rotated.\n",
        "x = max(df[\"y\"]) - df[\"y\"]\n",
        "y = max(df[\"x\"]) - df[\"x\"]"
      ]
    },
    {
      "cell_type": "markdown",
      "metadata": {},
      "source": [
        "Before we carry on with the curve fitting, it is good practice to first plot the raw data to get a rough feel of our data. As we shall see below, the pendulum's oscillations in the horizontal direction seems pretty stable and follows a pretty straight-forward sine curve. However, the oscillations in the vertical direction seems pretty erratic, and there are no straight-forwardly discernable functions that can approximate the vertical motion. Thus, we shall hereon do our curve fitting on the x-direction motions."
      ]
    },
    {
      "cell_type": "code",
      "execution_count": null,
      "metadata": {
        "colab": {
          "base_uri": "https://localhost:8080/",
          "height": 843
        },
        "id": "qnZVOpFRDhR-",
        "outputId": "6b0e38d4-a9f7-40e2-cb2b-9ca0d868ef24"
      },
      "outputs": [],
      "source": [
        "import matplotlib.pyplot as plt\n",
        "\n",
        "# Plot a scatter plot with x against frame with marker size 1\n",
        "plt.scatter(frame, x, s=1)\n",
        "plt.xlabel(\"Video frame number\")\n",
        "plt.ylabel(\"x position (pixels)\")\n",
        "plt.title(\"x position against frame number\")\n",
        "plt.show()\n",
        "\n",
        "# Plot a scatter plot with y against frame with marker size 1\n",
        "plt.scatter(frame, y, s=1)\n",
        "plt.xlabel(\"Video frame number\")\n",
        "plt.ylabel(\"y position\")\n",
        "plt.title(\"y position against frame number\")\n",
        "plt.show()"
      ]
    },
    {
      "cell_type": "markdown",
      "metadata": {
        "id": "UyOIRV7ADnhp"
      },
      "source": [
        "# Try fitting\n",
        "\n",
        "\\begin{align}\n",
        "\\large x(t) = A \\sin(2\\pi f t + \\alpha) + \\text{offset}\n",
        "\\end{align}"
      ]
    },
    {
      "cell_type": "markdown",
      "metadata": {},
      "source": [
        "We use the curve_fit function from the scipy library to find the values of A, f, $\\alpha$, and  offset that fits the sine curve to our data the best."
      ]
    },
    {
      "cell_type": "code",
      "execution_count": null,
      "metadata": {
        "colab": {
          "base_uri": "https://localhost:8080/",
          "height": 465
        },
        "id": "1Z6MwFg2DuMM",
        "outputId": "c6ae1cdc-b2c4-4f37-db81-28480d7db266"
      },
      "outputs": [],
      "source": [
        "FPS = 30\n",
        "# Assign each frame index to the number of seconds elapsed by dividing each frame by FPS\n",
        "t = frame / FPS\n",
        "\n",
        "import numpy as np\n",
        "\n",
        "\n",
        "def func(t, A, f, alpha, offset):\n",
        "    \"\"\"Returns x (horizontal position) as a function of time. Refer to pendulum equation above.\"\"\"\n",
        "    return A * np.sin(2 * np.pi * f * t + alpha) + offset\n",
        "\n",
        "\n",
        "from scipy.optimize import curve_fit\n",
        "\n",
        "# Obtain optimal values for amplitude, frequency, x offset and y offset using curve_fit\n",
        "# p0 is the initial guess for the parameters.\n",
        "# A ~= 450 - 250 = 200.\n",
        "# f ~= 9/15, because there are 9 full cycles within the first 15s of duration.\n",
        "# alpha looks to be a little smaller than pi/2, within the first quadrant.\n",
        "# offset ~= 250\n",
        "popt, pcov = curve_fit(func, t, x, p0=[200, 9 / 15, np.pi / 2, 250])\n",
        "\n",
        "# we see that our initial guess is pretty close to curve_fit's results!\n",
        "print(f\"A = {popt[0]}, f = {popt[1]}, alpha = {popt[2]}, offset = {popt[3]}\")\n",
        "\n",
        "# plotting a scatter plot with x against time with marker size 1\n",
        "plt.scatter(t, x, s=1)\n",
        "\n",
        "# plot best fit line using optimal values for the function\n",
        "plt.plot(t, func(t, *popt), color=\"r\", linestyle=\"--\", label=\"Best Fit\")\n",
        "plt.xlabel(\"time /s\")\n",
        "plt.ylabel(\"x position\")\n",
        "plt.title(\"x position against time\")\n",
        "plt.show()"
      ]
    },
    {
      "cell_type": "markdown",
      "metadata": {},
      "source": [
        "We can look at the r^2 value as an indicator of how well our model actually fits with our data."
      ]
    },
    {
      "cell_type": "code",
      "execution_count": null,
      "metadata": {
        "colab": {
          "base_uri": "https://localhost:8080/"
        },
        "id": "PNZLTAq6Dxna",
        "outputId": "21f83348-9f2f-4ae7-e335-eb5d6a842168"
      },
      "outputs": [],
      "source": [
        "from sklearn.metrics import r2_score\n",
        "\n",
        "r2_score(x, func(t, *popt))"
      ]
    },
    {
      "cell_type": "markdown",
      "metadata": {},
      "source": [
        "This is a pretty darn good r^2 score I would say. But I think we can do even better, by taking into account resistive forces."
      ]
    },
    {
      "cell_type": "markdown",
      "metadata": {
        "id": "ohfV64gVD1lL"
      },
      "source": [
        "# An even better fit!"
      ]
    },
    {
      "cell_type": "markdown",
      "metadata": {
        "id": "TsLKqZW1D-qb"
      },
      "source": [
        "In real life, there are frictional forces acting on the pendulum taking energy away from it over time. An underdamped pendulum decays in amplitude exponentially​:\n",
        "\n",
        "\\begin{align} \n",
        "\\large \\theta_{max}(t) = \\theta_{0} e^{-\\frac{\\eta}{2m} t}  \n",
        "\\end{align}\n",
        "\n",
        "$ \\eta $ : air drag constant ($ kg \\cdot s^{-1} $)\n",
        "\n",
        "So our improved model takes the following form: \n",
        "\n",
        "\\begin{align} \n",
        "\\large x(t) = x_{0}  e^{β t} sin(2πft + α) + \\text{offset}\n",
        "\\end{align}\n",
        "\n",
        "[Reference](https://www.ippp.dur.ac.uk/~krauss/Lectures/NumericalMethods/Oscillator/Lecture/os4.html#:~:text=The%20underdamped%20regime%20In%20this,%2C%20Ω²%3Dg%2Fl.)"
      ]
    },
    {
      "cell_type": "code",
      "execution_count": null,
      "metadata": {
        "colab": {
          "base_uri": "https://localhost:8080/",
          "height": 465
        },
        "id": "gLelCQRZEAfU",
        "outputId": "6132de7a-1b69-4b3d-f78e-8e15f0673f8f"
      },
      "outputs": [],
      "source": [
        "def func_damped(t, A, f, alpha, offset, beta):\n",
        "    \"\"\"Returns x (horizontal position) as a function of time. Refer to damped pendulum equation above.\"\"\"\n",
        "    return A * np.exp(beta * t) * np.sin(2 * np.pi * f * t + alpha) + offset\n",
        "\n",
        "\n",
        "# Obtain optimal values for amplitude, frequency, x offset, y offset and decay constant using curve_fit\n",
        "popt_damped, pcov_damped = curve_fit(\n",
        "    func_damped, t, x, p0=[200, 9 / 15, np.pi / 2, 250, 0]\n",
        ")\n",
        "\n",
        "# We see that our initial guess is pretty close to curve_fit's results.\n",
        "print(\n",
        "    f\"A = {popt_damped[0]}, f = {popt_damped[1]}, alpha = {popt_damped[2]}, offset = {popt_damped[3]}, beta = {popt_damped[4]}\"\n",
        ")\n",
        "\n",
        "# Plotting a scatter plot with x against time with marker size 1\n",
        "plt.scatter(t, x, s=1)\n",
        "# Plot best fit line using optimal values for the function\n",
        "plt.plot(t, func_damped(t, *popt_damped), color=\"r\", linestyle=\"--\", label=\"Best Fit\")\n",
        "plt.xlabel(\"time /s\")\n",
        "plt.ylabel(\"x position\")\n",
        "plt.title(\"x position against time\")\n",
        "plt.show()"
      ]
    },
    {
      "cell_type": "code",
      "execution_count": null,
      "metadata": {
        "colab": {
          "base_uri": "https://localhost:8080/"
        },
        "id": "6euup5LqEDY0",
        "outputId": "ada1b14e-6f18-4b57-809b-fae2679511f5"
      },
      "outputs": [],
      "source": [
        "r2_score(x, func_damped(t, *popt_damped))"
      ]
    },
    {
      "cell_type": "markdown",
      "metadata": {},
      "source": [
        "An even nicer fit! We can visually compare that the damped-oscillator equation is able to account for the decaying amplitude of oscillation, which gives us a higher r^2 score."
      ]
    }
  ],
  "metadata": {
    "colab": {
      "provenance": []
    },
    "kernelspec": {
      "display_name": "Python 3",
      "name": "python3"
    },
    "language_info": {
      "codemirror_mode": {
        "name": "ipython",
        "version": 3
      },
      "file_extension": ".py",
      "mimetype": "text/x-python",
      "name": "python",
      "nbconvert_exporter": "python",
      "pygments_lexer": "ipython3",
      "version": "3.12.2"
    }
  },
  "nbformat": 4,
  "nbformat_minor": 0
}

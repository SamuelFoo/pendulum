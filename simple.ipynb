{
  "cells": [
    {
      "cell_type": "markdown",
      "metadata": {},
      "source": [
        "# Data Extraction"
      ]
    },
    {
      "cell_type": "markdown",
      "metadata": {},
      "source": [
        "Using OpenCV, we extracted the pixel coordinates of the pendulum from the video and exported them into a csv file. The code is in `appendix.ipynb`."
      ]
    },
    {
      "cell_type": "markdown",
      "metadata": {
        "id": "Iak3pck_DEvG"
      },
      "source": [
        "# Curve Fitting\n"
      ]
    },
    {
      "cell_type": "markdown",
      "metadata": {
        "id": "8U5KusiJDQQz"
      },
      "source": [
        "## Load data"
      ]
    },
    {
      "cell_type": "code",
      "execution_count": null,
      "metadata": {
        "colab": {
          "base_uri": "https://localhost:8080/"
        },
        "id": "DNxg41CPDewg",
        "outputId": "17adf707-d858-4ee3-b1d6-a3d0e3bdd233"
      },
      "outputs": [],
      "source": [
        "import pandas as pd\n",
        "\n",
        "df = pd.read_csv(\"data/pendulum_output2.csv\")\n",
        "\n",
        "# The video frame number and the corresponding x and y\n",
        "# positions.\n",
        "frame = df[\"frame\"]\n",
        "x = df[\"x\"]\n",
        "y = df[\"y\"]\n",
        "\n",
        "# Swap the x and y values because the video is rotated.\n",
        "x, y = y, x\n",
        "\n",
        "# Reverse the directions of x and y to follow the convention\n",
        "# that y increases upwards and x increases rightwards.\n",
        "x = max(x) - x\n",
        "y = max(y) - y"
      ]
    },
    {
      "cell_type": "markdown",
      "metadata": {},
      "source": [
        "## Plot Data"
      ]
    },
    {
      "cell_type": "code",
      "execution_count": null,
      "metadata": {
        "colab": {
          "base_uri": "https://localhost:8080/",
          "height": 843
        },
        "id": "qnZVOpFRDhR-",
        "outputId": "6b0e38d4-a9f7-40e2-cb2b-9ca0d868ef24"
      },
      "outputs": [],
      "source": [
        "import matplotlib.pyplot as plt\n",
        "\n",
        "# Plot a scatter plot with x against frame number with marker size 1\n",
        "plt.scatter(frame, x, s=1)\n",
        "plt.xlabel(\"Video frame number\")\n",
        "plt.ylabel(\"x position (pixels)\")\n",
        "plt.title(\"x position against frame number\")\n",
        "plt.show()\n",
        "\n",
        "# Plot a scatter plot with y against frame number with marker size 1\n",
        "plt.scatter(frame, y, s=1)\n",
        "plt.xlabel(\"Video frame number\")\n",
        "plt.ylabel(\"y position\")\n",
        "plt.title(\"y position against frame number\")\n",
        "plt.show()"
      ]
    },
    {
      "cell_type": "markdown",
      "metadata": {},
      "source": [
        "As expected, both the x and y positions are a series of oscillations.\n",
        "It seems that the x position can be approximated as a sine function \n",
        "because the zero point remains fixed across oscillations.\n",
        "\n",
        "However, the zero point of the y position changes between oscillations.\n",
        "This can be attributed to the camera shaking when the motion\n",
        "of the pendulum was taken. Thus, the y position cannot be approximated well \n",
        "by a sine function. We will discuss the y position in `appendix.ipynb`."
      ]
    },
    {
      "cell_type": "markdown",
      "metadata": {
        "id": "UyOIRV7ADnhp"
      },
      "source": [
        "# Try fitting\n",
        "\n",
        "\\begin{align}\n",
        "\\large x(t) = A \\sin(2\\pi f t + \\alpha) + \\text{offset}\n",
        "\\end{align}"
      ]
    },
    {
      "cell_type": "markdown",
      "metadata": {},
      "source": [
        "We use the `curve_fit` function from SciPy to find the values of $A$, $f$, $\\alpha$, and $\\text{offset}$ that fits the sine curve to our data the best."
      ]
    },
    {
      "cell_type": "code",
      "execution_count": null,
      "metadata": {
        "colab": {
          "base_uri": "https://localhost:8080/",
          "height": 465
        },
        "id": "1Z6MwFg2DuMM",
        "outputId": "c6ae1cdc-b2c4-4f37-db81-28480d7db266"
      },
      "outputs": [],
      "source": [
        "FPS = 30  # Video frames per second\n",
        "# Assign each frame index to the number of seconds elapsed by dividing\n",
        "# each frame by FPS\n",
        "t = frame / FPS\n",
        "\n",
        "import numpy as np\n",
        "\n",
        "\n",
        "def func(t, A, f, alpha, offset):\n",
        "    \"\"\"Returns x (horizontal position) as a function of time. Refer to pendulum equation above.\"\"\"\n",
        "    return A * np.sin(2 * np.pi * f * t + alpha) + offset\n",
        "\n",
        "\n",
        "from scipy.optimize import curve_fit\n",
        "\n",
        "# Obtain optimal values for amplitude, frequency, oscillation phase\n",
        "# and position offset using curve_fit.\n",
        "\n",
        "# p0 is the initial guess for the parameters.\n",
        "# A ~= 450 - 250 = 200.\n",
        "# f ~= 9/15, because there are around 9 full cycles within the first 15s.\n",
        "# alpha looks to be a little smaller than pi/2, within the first quadrant.\n",
        "# offset ~= 250, obtained from the vertical offset of the graph from zero.\n",
        "popt, pcov = curve_fit(func, t, x, p0=[200, 9 / 15, np.pi / 2, 250])\n",
        "\n",
        "# popt contains the optimal values of the unknown parameters.\n",
        "print(\"A = {}, f = {}, alpha = {}, offset = {}\".format(*popt))\n",
        "# pcov is the pairwise covariance of the parameters.\n",
        "# They tell us whether the parameters are correlated.\n",
        "\n",
        "# Plotting a scatter plot with x against time with marker size 1\n",
        "plt.scatter(t, x, s=1)\n",
        "\n",
        "# Plot best fit line using optimal values for the function\n",
        "plt.plot(t, func(t, *popt), color=\"r\", linestyle=\"--\", label=\"Best Fit\")\n",
        "\n",
        "plt.xlabel(\"time /s\")\n",
        "plt.ylabel(\"x position\")\n",
        "plt.title(\"x position against time\")\n",
        "plt.show()"
      ]
    },
    {
      "cell_type": "markdown",
      "metadata": {},
      "source": [
        "In this case, we had to guess approximate values of parameters to prevent `curve_fit`\n",
        "from finding suboptimal local minima (behaviour differs between different versions\n",
        "of SciPy). \n",
        "\n",
        "However, a much more scalable method would be to calculate the period, and\n",
        "thus the frequency, by finding peaks instead. Then, we can remove one unknown parameter \n",
        "estimated by `curve_fit`, making the system more determined. This allows us to not have to set\n",
        "`p0` each time we have a different dataset. (Imagine having thousands of datasets to analyse\n",
        "and having to set a `p0` for each one of them.) The code for this second method can be\n",
        "found in `appendix.ipynb`."
      ]
    },
    {
      "cell_type": "code",
      "execution_count": null,
      "metadata": {
        "colab": {
          "base_uri": "https://localhost:8080/"
        },
        "id": "PNZLTAq6Dxna",
        "outputId": "21f83348-9f2f-4ae7-e335-eb5d6a842168"
      },
      "outputs": [],
      "source": [
        "from sklearn.metrics import r2_score\n",
        "\n",
        "# Coefficient of determination, R squared\n",
        "r2_score(x, func(t, *popt))"
      ]
    },
    {
      "cell_type": "markdown",
      "metadata": {},
      "source": [
        "Our fitted curve explains 99.8% of the variance in the x position."
      ]
    },
    {
      "cell_type": "markdown",
      "metadata": {
        "id": "ohfV64gVD1lL"
      },
      "source": [
        "# Air Drag"
      ]
    },
    {
      "cell_type": "markdown",
      "metadata": {
        "id": "TsLKqZW1D-qb"
      },
      "source": [
        "However, our fitted curve underpredicts the amplitude in the first half\n",
        "of position-time graph and overpredicts in the second half. This suggests\n",
        "the presence of resistive forces, in this case air drag. Thus, we modify\n",
        "the given equation to account for amplitude decay.\n",
        "\n",
        "An underdamped pendulum decays in amplitude exponentially<sup>1</sup>​:\n",
        "\\begin{align} \n",
        "\\large \\theta_{max}(t) = \\theta_{0} e^{-\\frac{\\eta}{2m} t}  \n",
        "\\end{align}\n",
        "\n",
        "$\\eta$ : air drag constant ($ kg \\cdot s^{-1} $)  \n",
        "$m$ : Mass of the pendulum bob\n",
        "\n",
        "The equation assumes linear drag.\n",
        "\n",
        "We can combine the unknowns $\\eta$ and $m$ to give a single parameter $\\beta$,\n",
        "where $\\beta$ is negative.\n",
        "So our improved model takes the following form: \n",
        "\n",
        "\\begin{align} \n",
        "\\large x(t) = x_{0}  e^{β t} sin(2πft + α) + \\text{offset}\n",
        "\\end{align}\n",
        "\n",
        "<sup>1</sup>: [Derivation of amplitude decay for an underdamped pendulum](https://www.ippp.dur.ac.uk/~krauss/Lectures/NumericalMethods/Oscillator/Lecture/os4.html#:~:text=The%20underdamped%20regime%20In%20this,%2C%20Ω²%3Dg%2Fl.)"
      ]
    },
    {
      "cell_type": "code",
      "execution_count": null,
      "metadata": {
        "colab": {
          "base_uri": "https://localhost:8080/",
          "height": 465
        },
        "id": "gLelCQRZEAfU",
        "outputId": "6132de7a-1b69-4b3d-f78e-8e15f0673f8f"
      },
      "outputs": [],
      "source": [
        "def func_damped(t, A, f, alpha, offset, beta):\n",
        "    \"\"\"Returns x (horizontal position) as a function of time. Refer to damped pendulum equation above.\"\"\"\n",
        "    return A * np.exp(beta * t) * np.sin(2 * np.pi * f * t + alpha) + offset\n",
        "\n",
        "\n",
        "# Obtain optimal values for amplitude, frequency, oscillation phase, position offset and decay constant using curve_fit\n",
        "popt_damped, pcov_damped = curve_fit(\n",
        "    func_damped, t, x, p0=[200, 9 / 15, np.pi / 2, 250, 0]\n",
        ")\n",
        "\n",
        "print(\"A = {}, f = {}, alpha = {}, offset = {}, beta = {}\".format(*popt_damped))\n",
        "\n",
        "# Plotting a scatter plot with x against time with marker size 1\n",
        "plt.scatter(t, x, s=1)\n",
        "\n",
        "# Plot best fit line using optimal values for the function\n",
        "plt.plot(t, func_damped(t, *popt_damped), color=\"r\", linestyle=\"--\", label=\"Best Fit\")\n",
        "\n",
        "plt.xlabel(\"time /s\")\n",
        "plt.ylabel(\"x position\")\n",
        "plt.title(\"x position against time\")\n",
        "plt.show()"
      ]
    },
    {
      "cell_type": "code",
      "execution_count": null,
      "metadata": {
        "colab": {
          "base_uri": "https://localhost:8080/"
        },
        "id": "6euup5LqEDY0",
        "outputId": "ada1b14e-6f18-4b57-809b-fae2679511f5"
      },
      "outputs": [],
      "source": [
        "# Coefficient of determination, R squared\n",
        "r2_score(x, func_damped(t, *popt_damped))"
      ]
    },
    {
      "cell_type": "markdown",
      "metadata": {},
      "source": [
        "Our fitted curve now explains 99.9% of the variance in the x position.\n",
        "\n",
        "We have obtained a better fit by considering amplitude decay."
      ]
    }
  ],
  "metadata": {
    "colab": {
      "provenance": []
    },
    "kernelspec": {
      "display_name": "Python 3",
      "name": "python3"
    },
    "language_info": {
      "codemirror_mode": {
        "name": "ipython",
        "version": 3
      },
      "file_extension": ".py",
      "mimetype": "text/x-python",
      "name": "python",
      "nbconvert_exporter": "python",
      "pygments_lexer": "ipython3",
      "version": "3.12.2"
    }
  },
  "nbformat": 4,
  "nbformat_minor": 0
}
